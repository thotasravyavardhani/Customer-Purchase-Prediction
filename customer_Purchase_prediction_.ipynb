{
  "nbformat": 4,
  "nbformat_minor": 0,
  "metadata": {
    "colab": {
      "private_outputs": true,
      "provenance": [],
      "authorship_tag": "ABX9TyOF0Ce567JFulJiwIOFwBQM",
      "include_colab_link": true
    },
    "kernelspec": {
      "name": "python3",
      "display_name": "Python 3"
    },
    "language_info": {
      "name": "python"
    }
  },
  "cells": [
    {
      "cell_type": "markdown",
      "metadata": {
        "id": "view-in-github",
        "colab_type": "text"
      },
      "source": [
        "<a href=\"https://colab.research.google.com/github/thotasravyavardhani/Customer-Purchase-Prediction/blob/main/customer_Purchase_prediction_.ipynb\" target=\"_parent\"><img src=\"https://colab.research.google.com/assets/colab-badge.svg\" alt=\"Open In Colab\"/></a>"
      ]
    },
    {
      "cell_type": "markdown",
      "source": [
        "Customer Purchase prediction -- Machine learning Project\n",
        "\n",
        " Using 4 models:\n",
        "  1. Logistic regression\n",
        "  2. KNN- K Nearest neighbors\n",
        "  3. Random forest Classifier\n",
        "  4. Decision Tree Classifier\n",
        "\n",
        "Steps to create a ML model:\n",
        "\n",
        "1. import library\n",
        "2. import data\n",
        "3. Select X and Y (Dependent or o/p variable(Y) and Independent or i/p\n",
        "   variable(X)).\n",
        "4. Train Test Split: Splitting the data into Train data and Test data Train data is used to Train the ML model and test data is used to by taking random samples from dataset.\n",
        "5. Select model : based on Y- o/p variable type\n",
        "   if y = Continuous data - Regression models\n",
        "   if y = Categorical data (0 / 1,T/ F)- Classification models\n",
        "  \n",
        "  Regression models:\n",
        "\n",
        "    a. if y depends only on one of the other Variable (x)\n",
        "      then eq-> y=mx+c\n",
        "    b. if y depends on multiple then eq-> y=b0+b1x1+b2x2+....\n",
        "    use LINEAR REGRESSION MODEL Not only these their can be many other chance\n",
        "\n",
        "  Classification models:\n",
        "   .Clustering, Naive Buyes....\n",
        "6. Training or fitting the model\n",
        "7. Testing or predicting the model\n",
        "8. Accuracy check\n",
        "\"\"\""
      ],
      "metadata": {
        "id": "KF4NfVvyZYqR"
      }
    },
    {
      "cell_type": "code",
      "execution_count": null,
      "metadata": {
        "id": "wK2mPH6vYrRz"
      },
      "outputs": [],
      "source": [
        "#step 1: import Library\n",
        "import pandas as pd"
      ]
    },
    {
      "cell_type": "code",
      "source": [
        "#step2: import data\n",
        "purchase=pd.read_csv('Customer Purchase.csv')"
      ],
      "metadata": {
        "id": "9gxwIc4HbP5y"
      },
      "execution_count": null,
      "outputs": []
    },
    {
      "cell_type": "code",
      "source": [
        "purchase"
      ],
      "metadata": {
        "id": "t1yi7PzRbfIT"
      },
      "execution_count": null,
      "outputs": []
    },
    {
      "cell_type": "code",
      "source": [
        "purchase.head()#1st 5 rows"
      ],
      "metadata": {
        "id": "HoDGRYPmbhlV"
      },
      "execution_count": null,
      "outputs": []
    },
    {
      "cell_type": "code",
      "source": [
        "purchase.tail()#last 5 rows"
      ],
      "metadata": {
        "id": "Y9OeFACqbltm"
      },
      "execution_count": null,
      "outputs": []
    },
    {
      "cell_type": "code",
      "source": [
        "purchase.head(3)#1st 3 rows"
      ],
      "metadata": {
        "id": "KGkk10J5bp5j"
      },
      "execution_count": null,
      "outputs": []
    },
    {
      "cell_type": "code",
      "source": [
        "purchase.tail(3)#last 3 rows"
      ],
      "metadata": {
        "id": "CmSnIolqbt1U"
      },
      "execution_count": null,
      "outputs": []
    },
    {
      "cell_type": "code",
      "source": [
        "purchase.info()#info about data in dataset"
      ],
      "metadata": {
        "id": "JYM9bcbYb1zY"
      },
      "execution_count": null,
      "outputs": []
    },
    {
      "cell_type": "code",
      "source": [
        "purchase.describe()#stats about data"
      ],
      "metadata": {
        "id": "o4HDV_v0b4lK"
      },
      "execution_count": null,
      "outputs": []
    },
    {
      "cell_type": "code",
      "source": [
        "purchase.columns#All colns in dataset"
      ],
      "metadata": {
        "id": "jTvcGnwxcAy4"
      },
      "execution_count": null,
      "outputs": []
    },
    {
      "cell_type": "code",
      "source": [
        "purchase.shape#rows and colns"
      ],
      "metadata": {
        "id": "8LVaxmJ5cFDh"
      },
      "execution_count": null,
      "outputs": []
    },
    {
      "cell_type": "code",
      "source": [
        "#Step 3: Splitting the data into X and Y\n",
        "x=purchase[['Age','Gender','Education','Review']]\n",
        "y=purchase['Purchased']\n",
        "#encoding data into string to categorical data(0 or 1)\n",
        "x.replace({'Review':{'Poor':0,'Average':1,'Good':2}},inplace=True)\n",
        "x.replace({'Gender':{'Male':0,'Female':1}},inplace=True)\n",
        "x.replace({'Education':{'School':0,'UG':1,'PG':2}},inplace=True)"
      ],
      "metadata": {
        "id": "eCwC-C8OcKuR"
      },
      "execution_count": null,
      "outputs": []
    },
    {
      "cell_type": "code",
      "source": [
        "x"
      ],
      "metadata": {
        "id": "tfn8Tb8GcjhQ"
      },
      "execution_count": null,
      "outputs": []
    },
    {
      "cell_type": "code",
      "source": [
        "#Splitting the data into train data and test data\n",
        "from sklearn.model_selection import train_test_split\n",
        "x_train,x_test,y_train,y_test=train_test_split(x,y,random_state=2529)"
      ],
      "metadata": {
        "id": "3M3Wi64aclOt"
      },
      "execution_count": null,
      "outputs": []
    },
    {
      "cell_type": "code",
      "source": [
        "x_train.shape,x_test.shape,y_train.shape,y_test.shape"
      ],
      "metadata": {
        "id": "FDlFTzz2ctuu"
      },
      "execution_count": null,
      "outputs": []
    },
    {
      "cell_type": "code",
      "source": [
        "#fit or train the model\n",
        "from sklearn.linear_model import LogisticRegression\n",
        "model=LogisticRegression()\n",
        "model.fit(x_train,y_train) #To train the model"
      ],
      "metadata": {
        "id": "2zIqtXb3ed-L"
      },
      "execution_count": null,
      "outputs": []
    },
    {
      "cell_type": "code",
      "source": [
        "#To test the data\n",
        "y_pred=model.predict(x_test)"
      ],
      "metadata": {
        "id": "PmyZ056rffl6"
      },
      "execution_count": null,
      "outputs": []
    },
    {
      "cell_type": "code",
      "source": [
        "#To know accuracy\n",
        "from sklearn.metrics import accuracy_score,classification_report\n",
        "accuracy_score(y_test,y_pred)"
      ],
      "metadata": {
        "id": "RCgaPU8kf80V"
      },
      "execution_count": null,
      "outputs": []
    },
    {
      "cell_type": "code",
      "source": [
        "#Accuracy for correct = 30%\n",
        "#So Anoher model-Random Forest Classifier\n",
        "from sklearn.ensemble import RandomForestClassifier\n",
        "model=RandomForestClassifier()\n",
        "model.fit(x_train,y_train)"
      ],
      "metadata": {
        "id": "m4bF6LZWgRd9"
      },
      "execution_count": null,
      "outputs": []
    },
    {
      "cell_type": "code",
      "source": [
        "y_pred=model.predict(x_test)"
      ],
      "metadata": {
        "id": "vgwm6MV6hr57"
      },
      "execution_count": null,
      "outputs": []
    },
    {
      "cell_type": "code",
      "source": [
        "accuracy_score(y_test,y_pred)"
      ],
      "metadata": {
        "id": "7Rgui6gAh513"
      },
      "execution_count": null,
      "outputs": []
    },
    {
      "cell_type": "code",
      "source": [
        "#Accuracy= 61%\n",
        "#So,Lets see another method KNN-K Nearest Neighbours"
      ],
      "metadata": {
        "id": "i4yeTDaDiCmy"
      },
      "execution_count": null,
      "outputs": []
    },
    {
      "cell_type": "code",
      "source": [
        "from sklearn.neighbors import KNeighborsClassifier\n",
        "#if y is regression, use from sklearn.neighbors import kNeighborsRegressor\n",
        "model=KNeighborsClassifier()\n",
        "model.fit(x_train,y_train)"
      ],
      "metadata": {
        "id": "k3CSOqgjidM5"
      },
      "execution_count": null,
      "outputs": []
    },
    {
      "cell_type": "code",
      "source": [
        "y_pred=model.predict(x_test)"
      ],
      "metadata": {
        "id": "y6MNXFIpjqb_"
      },
      "execution_count": null,
      "outputs": []
    },
    {
      "cell_type": "code",
      "source": [
        "accuracy_score(y_test,y_pred)"
      ],
      "metadata": {
        "id": "0LTgX8iFj4u_"
      },
      "execution_count": null,
      "outputs": []
    },
    {
      "cell_type": "code",
      "source": [
        "#Accuracy=53%\n",
        "#Another model"
      ],
      "metadata": {
        "id": "BVsryh_bj9Fm"
      },
      "execution_count": null,
      "outputs": []
    },
    {
      "cell_type": "code",
      "source": [
        "from sklearn.tree import DecisionTreeClassifier\n",
        "model=DecisionTreeClassifier()\n",
        "model.fit(x_train,y_train)"
      ],
      "metadata": {
        "id": "OtiSlnJ4kCEE"
      },
      "execution_count": null,
      "outputs": []
    },
    {
      "cell_type": "code",
      "source": [
        "y_pred=model.predict(x_test)"
      ],
      "metadata": {
        "id": "SwTXOtUzk7GR"
      },
      "execution_count": null,
      "outputs": []
    },
    {
      "cell_type": "code",
      "source": [
        "accuracy_score(y_test,y_pred)"
      ],
      "metadata": {
        "id": "ANXSzgO9k-3N"
      },
      "execution_count": null,
      "outputs": []
    },
    {
      "cell_type": "code",
      "source": [
        "#Accuracy= 61%"
      ],
      "metadata": {
        "id": "JVvYJWm8lF63"
      },
      "execution_count": null,
      "outputs": []
    },
    {
      "cell_type": "code",
      "source": [],
      "metadata": {
        "id": "mVLkPJaalrQg"
      },
      "execution_count": null,
      "outputs": []
    }
  ]
}